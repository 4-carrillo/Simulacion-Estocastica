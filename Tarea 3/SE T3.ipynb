{
 "cells": [
  {
   "cell_type": "markdown",
   "metadata": {},
   "source": [
    "*Alexis Adrian Carrillo Medina (316733780)*\n",
    "\n",
    "---\n",
    "<center> <h1>  <b> Simulacion Estocastica </b> <br>\n",
    "<b> Tarea 3 </b>\n",
    "<hr>"
   ]
  },
  {
   "cell_type": "markdown",
   "metadata": {},
   "source": [
    "#### **Bibliotecas**"
   ]
  },
  {
   "cell_type": "code",
   "execution_count": 127,
   "metadata": {},
   "outputs": [],
   "source": [
    "import scipy.stats as stats\n",
    "import numpy as np\n",
    "import matplotlib.pyplot as plt"
   ]
  },
  {
   "cell_type": "markdown",
   "metadata": {},
   "source": [
    "### **4) Programe y compare estos estimadores para $\\mathbb{E}_{g_X}[X]$ y $Var_{g_X}[X]$ con**\n",
    "### **$$X|Y=y \\sim Normal(0,y) , Y^{-1} \\sim Gamma(1,1)$$**"
   ]
  },
  {
   "cell_type": "markdown",
   "metadata": {},
   "source": [
    "Sea $T=Y^{-1}$, entonces $T \\sim Gamma(1,1)$ y $X|T=t \\sim Normal(0,\\frac{1}{t})$. <br>\n",
    "Usando la hipotesis del ejercicio obtemos la distribucion de marginal de $X$ <br>\n",
    "\n",
    "$$f_{X}(x) = \\int_{\\mathbb{R^+}} f_{X|T}(x|t)g_T(t)dt = \\int_{\\mathbb{R^+}} \\frac{\\sqrt{t}}{\\sqrt{2 \\pi}}e^{-2\\frac{x^2 t}{2}} \\cdot e^{-t} dt \\propto \\int_{\\mathbb{R^+}} \\sqrt{t}e^{-t(\\frac{x^2}{2}+1)}dt $$\n",
    "\n",
    "sea $\\xi = t(\\frac{x^2}{2}+1) \\Rightarrow d\\xi =\\frac{x^2}{2}+1 dt $, por lo que\n",
    "\n",
    "$$f_{X}(x) \\propto \\int_{\\mathbb{R^+}} \\frac{\\sqrt{\\xi}}{\\sqrt{\\frac{x^2}{2}+1}}e^{-\\xi} \\frac{1}{\\frac{x^2}{2}+1} d\\xi = \\frac{1}{(\\frac{x^2}{2}+1)^{\\frac{3}{2}}} \\int_{\\mathbb{R^+}} \\sqrt{\\xi} e^{-\\xi} \\propto (\\frac{x^2}{2}+1)^{-\\frac{3}{2}}$$\n",
    "\n",
    "por lo tanto $X \\sim \\mathcal{T}_2$, por lo que $Var_{g_X}(X)=\\infty$ y $\\mathbb{E}_{g_X}(X)=0$ por lo que instantaneamente se cumple que $Var(E[X|Y])=Var(0)=0 < Var_{g_X}(X) = \\infty$\n",
    "\n",
    "Ahora, simulemos tanto el estimador Rao-Blackwellizado y el estimador Monte-Carlo usual"
   ]
  },
  {
   "cell_type": "markdown",
   "metadata": {},
   "source": [
    "**Estimador Monte-Carlo Usaul**\n",
    "$$\\frac{1}{n} \\sum_{i=1}^n X_i \\approx \\mathbb{E}(X) $$"
   ]
  },
  {
   "cell_type": "code",
   "execution_count": 40,
   "metadata": {},
   "outputs": [],
   "source": [
    "def eMonteCarlo(X):\n",
    "    estimator=0\n",
    "    for i in range(len(X)):\n",
    "        estimator+=X[i]\n",
    "    return estimator/len(X)"
   ]
  },
  {
   "cell_type": "markdown",
   "metadata": {},
   "source": [
    "**Estimador Rao-Blackwellizado**\n",
    "\n",
    "$$ \\frac{1}{n}\\sum_{i=0}^n \\mathbb{E}(X|Y_i) \\approx \\mathbb{E}(X)$$"
   ]
  },
  {
   "cell_type": "code",
   "execution_count": 75,
   "metadata": {},
   "outputs": [],
   "source": [
    "# En realidad esta funcion la defino porque es proposito de la practica\n",
    "# Si nos fijamos no tiene sentido porque al final E(X|Y)=0 y el estimador es 0\n",
    "def eRaoBlackwell(X):\n",
    "    e=0\n",
    "    for i in range(len(X)):\n",
    "        e+=stats.tmean(X)\n",
    "    return e/len(X)"
   ]
  },
  {
   "cell_type": "markdown",
   "metadata": {},
   "source": [
    "**Simulacion**"
   ]
  },
  {
   "cell_type": "code",
   "execution_count": 125,
   "metadata": {},
   "outputs": [],
   "source": [
    "n=500\n",
    "EstimatorsMU=[]\n",
    "EstimatorsRB=[]\n",
    "Iter=[[],[]]\n",
    "# Variables aleatorias\n",
    "X = stats.t(2)\n",
    "Y = stats.gamma(a=1,scale=1)\n",
    "\n",
    "# Simulacion de las variables\n",
    "X1=X.rvs(n)\n",
    "Y1=Y.rvs(n)\n",
    "for i in range(1,n):\n",
    "    \n",
    "    # X|Y=y \\sim N(0,y)\n",
    "    XgivY=[]\n",
    "    for j in range(len(Y1[0:i])):\n",
    "        XgivY.append((stats.norm.rvs(0,Y1[j],1))[0])\n",
    "    EstimatorsMU.append(eMonteCarlo(X1[0:i]))\n",
    "    EstimatorsRB.append(eRaoBlackwell(XgivY))"
   ]
  },
  {
   "cell_type": "markdown",
   "metadata": {},
   "source": [
    "**Grafica**"
   ]
  },
  {
   "cell_type": "code",
   "execution_count": 134,
   "metadata": {},
   "outputs": [
    {
     "data": {
      "image/png": "[encoded data removed]",
      "text/plain": [
       "<Figure size 432x288 with 1 Axes>"
      ]
     },
     "metadata": {
      "needs_background": "light"
     },
     "output_type": "display_data"
    }
   ],
   "source": [
    "plt.grid()\n",
    "plt.plot(EstimatorsMU,color='black',label='Monte-Carlo Usual',alpha=0.5)\n",
    "plt.plot(EstimatorsRB,color='red',label='Rao-Blackwell',alpha=0.4)\n",
    "plt.plot([0]*n,label='E(X)',ls='--',color='blue')\n",
    "plt.legend()\n",
    "plt.show()"
   ]
  },
  {
   "cell_type": "markdown",
   "metadata": {},
   "source": [
    "Como se puede observar claramente que el Rao-blackwellizado tiene varianza menor que el Monte-Carlo usual, pero el error cuadratico medio no. Aun asi la convergencia se da mas veloz que el Monte-Carlo usual"
   ]
  },
  {
   "cell_type": "markdown",
   "metadata": {},
   "source": [
    "### **5) Programe 1000 experimentos Monte-Carlo para la estimacion de $\\pi$ con nivel de confianza al $95\\%$ para estimar correctamente los primeros tres digitos y de el procentaje de los experimentos que dieron correctamente los primeros tres digitos de $\\pi$**"
   ]
  },
  {
   "cell_type": "markdown",
   "metadata": {},
   "source": [
    "#### **Estimacion del numero de muestras e intervalo**"
   ]
  },
  {
   "cell_type": "markdown",
   "metadata": {},
   "source": [
    "Queremos estimar $\\pi$, para ello recordemos que\n",
    "$$\\int_0^1 \\sqrt{1-x^2} dx = \\frac{\\pi}{4}$$\n",
    "Usaremos integracion montecarlo: estimaremos el area debajo de la curva, entre 0 y 1, de la funcion $h(x)=\\sqrt{1-x^2}$<br>\n",
    "Para ello definimos $Y \\sim \\mathcal{L}(h(X))$, donde $X \\sim U(0,1)$; por la ley de los grandes numeros se tiene:\n",
    "$$\\int_0^1 \\sqrt{1-x^2} dx = \\mathbb{E}(Y)=\\mathbb{E}(h(X)) \\approx \\frac{1}{n}\\sum_{i=1}^n h(X_i) = \\hat E$$\n",
    "donde $X_i \\sim \\mathcal{L}(X)$. Por el teorema de limite central\n",
    "$$\\lim_{n \\to \\infty}\\sum_{i=0}^n h(X_i) \\sim N(n\\mathbb{E}(Y),nVar(Y)) $$\n",
    "Definimos\n",
    "$$Var(Y) \\approx \\frac{1}{n}\\sum_{i=1}^n (h(X_i) - \\hat E)^2 = \\hat V^2$$\n",
    "$$\\Rightarrow \\frac{\\sqrt{n}\\left(\\hat E-\\mathbb{E}(Y)\\right)}{\\hat V} \\sim N(0,1)  $$\n",
    "Por lo que un intervalo de confianza al $(1-\\alpha) \\%$ es\n",
    "$$I_{\\alpha}=[\\hat E - \\frac{Z_{1-\\alpha/2}\\hat V}{\\sqrt{n}},\\hat E - \\frac{Z_{\\alpha/2}\\hat V}{\\sqrt{n}}] $$\n",
    "Para $\\alpha=0.05$, tenemos\n",
    "$$I_{\\alpha}=[\\hat E - \\frac{1.96\\hat V}{\\sqrt{n}},\\hat E + \\frac{1.96\\hat V}{\\sqrt{n}}] $$ <br>\n",
    "Pero este es el intervalo para estimar $\\frac{\\pi}{4}$; para considerar el intervalo de $\\pi$ multiplicamos $\\hat E$ por 4 y $\\hat V$ por 16, por conveniencia usamos la misma notacion, solo hay que tener encuenta este detalle.<br>\n",
    "Para asegurarnos que el intervalo de confianza tenga dentro a la estimacion de los primeros 3 digitos de $\\pi$, con un $95\\%$ de confianza, quisieramos que:\n",
    "$$ I_{\\alpha}=[\\hat E - \\frac{1.96\\hat V}{\\sqrt{n}},\\hat E + \\frac{1.96\\hat V}{\\sqrt{n}}] \\subset [3.14,3,15]$$\n",
    "Puesto que la distancia de $\\pi$ a $3.14,3.15$ es asimetrica tomamos el de menor distancia, dado que, por simetria del intervalo, si tomamos el de menor distancia, para condicionar nuestro intervalo, aseguramos que el otro sea una cota del intervalo. Entonces\n",
    "$$\\Rightarrow 3.14 = \\hat E - \\frac{1.96\\hat V}{\\sqrt{n}} \\Rightarrow n = \\left( \\frac{1.96 \\hat V}{\\pi-3.14} \\right)^2$$\n",
    "Sustituyendo en la $n$ que obtuvimos tenemos que\n",
    "$$ \\hat E + \\frac{1.96\\hat V}{\\sqrt{n}} = 2\\pi-3.14 \\approx 3.14318 \\ldots < 3.15$$\n",
    "Ahora estimaremos la varianza con python  y para reducirla usamos variables antiteticas"
   ]
  },
  {
   "cell_type": "code",
   "execution_count": 21,
   "metadata": {},
   "outputs": [
    {
     "name": "stdout",
     "output_type": "stream",
     "text": [
      "La varianza, del estimador de pi, es: 0.105669\n"
     ]
    }
   ],
   "source": [
    "# Funcion h a estimar\n",
    "def h(x):\n",
    "    return np.sqrt(1-x**2)\n",
    "\n",
    "# Numero de sampleos\n",
    "n=10000\n",
    "\n",
    "# Variables aleatorias\n",
    "U=stats.uniform(0,1)\n",
    "\n",
    "Up=U.rvs(n)\n",
    "U1=Up\n",
    "Ua=1-Up\n",
    "\n",
    "# Esperanza de U1\n",
    "mean1=0\n",
    "for i in range(len(U1)):\n",
    "    mean1+=h(U1[i])\n",
    "mean1=mean1/n\n",
    "\n",
    "# Esperanza de Ua\n",
    "meanA=0\n",
    "for i in range(len(Ua)):\n",
    "    meanA+=h(Ua[i])    \n",
    "meanA=meanA/n\n",
    "\n",
    "# Varianza de U1\n",
    "var=0\n",
    "for i in range(len(U1)):\n",
    "    var+=(h(U1[i])-mean1)**2    \n",
    "var=var/n\n",
    "\n",
    "# Covarianza de U1,Ua\n",
    "cov=0\n",
    "for i in range(len(U1)):\n",
    "    cov+=(h(U1[i])-mean1)*(h(Ua[i])-meanA)\n",
    "cov=cov/n\n",
    "\n",
    "print(\"La varianza, del estimador de pi, es: %f\" %((8)*(var+cov)))"
   ]
  },
  {
   "cell_type": "markdown",
   "metadata": {},
   "source": [
    "Entonces, para tener un experimento que estime los 3 primeros digitos de $\\pi$, con un $95 \\%$ de confianza, hay que simular un total de:\n",
    "$$n= \\left( \\frac{1.96 \\cdot \\sqrt{0.103627}}{\\pi-3.14} \\right)^2 \\approx 156,943$$\n",
    "Variables aleatorias, mas la antiteticas, es decir un total de $313,886$ variables aleatorias <br>"
   ]
  },
  {
   "cell_type": "markdown",
   "metadata": {},
   "source": [
    "#### **Simulacion**"
   ]
  },
  {
   "cell_type": "code",
   "execution_count": 7,
   "metadata": {},
   "outputs": [],
   "source": [
    "# Cantidad de Montecarlos\n",
    "N=100\n",
    "\n",
    "#Cantidad de Variables aleatorias\n",
    "n=156943\n",
    "\n",
    "MonteCarlo=[]\n",
    "\n",
    "for i in range(N):\n",
    "    #Uniforme\n",
    "    U=stats.uniform(0,1)\n",
    "    Up=U.rvs(n)\n",
    "\n",
    "    U1=Up\n",
    "    U2=1-Up\n",
    "    \n",
    "    mean=0\n",
    "    for j in range(len(U1)):\n",
    "        mean+=(h(U1[j])+h(U2[j]))/2\n",
    "        \n",
    "    MonteCarlo.append(4*mean/n)"
   ]
  },
  {
   "cell_type": "markdown",
   "metadata": {},
   "source": [
    "#### **Porcentaje de experimentos**"
   ]
  },
  {
   "cell_type": "code",
   "execution_count": 39,
   "metadata": {},
   "outputs": [
    {
     "name": "stdout",
     "output_type": "stream",
     "text": [
      "98.0\n"
     ]
    }
   ],
   "source": [
    "C=0\n",
    "for i in range(len(MonteCarlo)):\n",
    "    if(3.14 <= MonteCarlo[i] and MonteCarlo[i] < 3.15): # con un valor cercano a 3.14318... da un 95% de confianza\n",
    "        C+=1\n",
    "print(100*(C/N))"
   ]
  }
 ],
 "metadata": {
  "kernelspec": {
   "display_name": "Python 3",
   "language": "python",
   "name": "python3"
  },
  "language_info": {
   "codemirror_mode": {
    "name": "ipython",
    "version": 3
   },
   "file_extension": ".py",
   "mimetype": "text/x-python",
   "name": "python",
   "nbconvert_exporter": "python",
   "pygments_lexer": "ipython3",
   "version": "3.9.1"
  }
 },
 "nbformat": 4,
 "nbformat_minor": 4
}
